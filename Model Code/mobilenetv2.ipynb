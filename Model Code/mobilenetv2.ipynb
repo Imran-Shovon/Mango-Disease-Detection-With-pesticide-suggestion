{
  "nbformat": 4,
  "nbformat_minor": 0,
  "metadata": {
    "colab": {
      "name": "mobilenetv2.ipynb",
      "provenance": [],
      "machine_shape": "hm",
      "collapsed_sections": []
    },
    "kernelspec": {
      "name": "python3",
      "display_name": "Python 3"
    },
    "language_info": {
      "name": "python"
    },
    "accelerator": "GPU"
  },
  "cells": [
    {
      "cell_type": "code",
      "source": [
        "#naimur rahaman\n",
        "#intake 38 id 248"
      ],
      "metadata": {
        "id": "w6fsMmDa88Zw"
      },
      "execution_count": null,
      "outputs": []
    },
    {
      "cell_type": "code",
      "source": [
        "!nvidia-smi"
      ],
      "metadata": {
        "id": "q_KrOqHAQ1Dw"
      },
      "execution_count": null,
      "outputs": []
    },
    {
      "cell_type": "code",
      "execution_count": null,
      "metadata": {
        "id": "ccN9DwSFPGBj"
      },
      "outputs": [],
      "source": [
        "import tensorflow as tf\n",
        "import matplotlib.pyplot as plt\n",
        "import numpy as np\n",
        "import os\n",
        "import pathlib\n",
        "from google.colab import files\n",
        "from tensorflow import keras\n",
        "from tensorflow.keras.models import Sequential, Model\n",
        "from tensorflow.keras.applications import MobileNetV2 #14 MB acc Top1 0.71 top5 0.9\n",
        "from tensorflow.keras.preprocessing import image\n",
        "from tensorflow.keras.layers import Dense, GlobalAveragePooling2D , Dropout"
      ]
    },
    {
      "cell_type": "code",
      "source": [
        "from google.colab import drive\n",
        "drive.mount('/content/drive')"
      ],
      "metadata": {
        "colab": {
          "base_uri": "https://localhost:8080/"
        },
        "id": "ITjB_ngKPMAx",
        "outputId": "7716ffea-0f4e-4736-9461-546001ca8f87"
      },
      "execution_count": null,
      "outputs": [
        {
          "output_type": "stream",
          "name": "stdout",
          "text": [
            "Mounted at /content/drive\n"
          ]
        }
      ]
    },
    {
      "cell_type": "code",
      "source": [
        "!unzip /content/drive/MyDrive/Data.zip"
      ],
      "metadata": {
        "id": "yv5qpLhsPL92"
      },
      "execution_count": null,
      "outputs": []
    },
    {
      "cell_type": "code",
      "source": [
        "EPOCHS=100 #Number of epochs to train the model.\n",
        "BATCH_SIZE =32 \n",
        "CLASSES=20 \n",
        "PATIENCE=EPOCHS//5\n",
        "LR_FACTOR=0.2\n",
        "WEIGHTS_FILE = \"weights.h5\" #File that stores updated weights\n",
        "image_size =224 #needs to comply with CNN input constraints. \n",
        "PATH=\"/content/\" #Path to dataset\n",
        "TEST_PATH='/content/'"
      ],
      "metadata": {
        "id": "FECyJFBqPL6u"
      },
      "execution_count": null,
      "outputs": []
    },
    {
      "cell_type": "code",
      "source": [
        "#Necessary data preparation.\n",
        "def data_prep():\n",
        "    #Apply data augmentation on-the-fly on the training set to increase generalizability of the model.\n",
        "    train_datagen = keras.preprocessing.image.ImageDataGenerator(rescale = 1/255,\n",
        "                                                                shear_range = 0.2,\n",
        "                                                                zoom_range = 0.2,\n",
        "                                                                width_shift_range = 0.2,\n",
        "                                                                height_shift_range = 0.2,\n",
        "                                                                fill_mode=\"nearest\")\n",
        "    #Create the pipeline\n",
        "    train_data = train_datagen.flow_from_directory(os.path.join(PATH,\"train\"),\n",
        "                                                  target_size=(image_size,image_size),\n",
        "                                                  batch_size=BATCH_SIZE,\n",
        "                                                  class_mode=\"categorical\")\n",
        "    # Normalize validation dataset's image rgb values.\n",
        "    valid_datagen = keras.preprocessing.image.ImageDataGenerator(rescale = 1/255)\n",
        "    #Create the pipeline\n",
        "    valid_data = valid_datagen.flow_from_directory(os.path.join(PATH,\"val\"),\n",
        "                                                  target_size=(image_size,image_size),\n",
        "                                                  batch_size=BATCH_SIZE,\n",
        "                                                  class_mode=\"categorical\")\n",
        "    return[train_data,valid_data]"
      ],
      "metadata": {
        "id": "q1lHdjY6PL3r"
      },
      "execution_count": null,
      "outputs": []
    },
    {
      "cell_type": "code",
      "source": [
        "#Plot training learning curves for both train and validation.\n",
        "def plot_training_curves(history):\n",
        "        #Defining the metrics we will plot.\n",
        "        train_acc=history.history['accuracy']\n",
        "        val_acc=history.history['val_accuracy']\n",
        "        train_loss = history.history['loss']\n",
        "        val_loss = history.history['val_loss']\n",
        "        \n",
        "        #Range for the X axis.\n",
        "        epochs = range(len(train_loss))\n",
        "        \n",
        "        #Plotting Loss figures.\n",
        "        fig = plt.figure(figsize=(10,6)) #figure size h,w in inches \n",
        "        plt.rcParams.update({'font.size': 22}) #configuring font size.\n",
        "        plt.plot(epochs,train_loss,c=\"red\",label=\"Training Loss\") #plotting\n",
        "        plt.plot(epochs,val_loss,c=\"blue\",label=\"Validation Loss\")\n",
        "        plt.xlabel(\"Epochs\") #title for x axis\n",
        "        plt.ylabel(\"Loss\")   #title for y axis\n",
        "        plt.legend()\n",
        "\n",
        "        #Plotting Accuracy figures. \n",
        "        fig = plt.figure(figsize=(10,6)) #figure size h,w in inches\n",
        "        plt.plot(epochs,train_acc,c=\"red\",label=\"Training Acc\") #plotting\n",
        "        plt.plot(epochs,val_acc,c=\"blue\",label=\"Validation Acc\")\n",
        "        plt.xlabel(\"Epochs\")   #title for x axis\n",
        "        plt.ylabel(\"Accuracy\") #title for y axis\n",
        "        plt.legend()"
      ],
      "metadata": {
        "id": "odqNvY3pPL0n"
      },
      "execution_count": null,
      "outputs": []
    },
    {
      "cell_type": "code",
      "source": [
        "#Make predictions on manually created test dataset folder. (OPTIONAL, different to initial dataset test set)\n",
        "def test_model(path):\n",
        "    i=0\n",
        "    #Inversing class dictionary [keys,values]->[values,keys]\n",
        "    labels = (train_data.class_indices)\n",
        "    labels = dict((v,k) for k,v in labels.items())\n",
        "\n",
        "    for filename in os.listdir(path) :\n",
        "        i+=1\n",
        "        file_path= path +\"/\" + str(pathlib.Path(filename))\n",
        "      \n",
        "        image = tf.keras.preprocessing.image.load_img(\n",
        "                file_path,grayscale=False, color_mode=\"rgb\",\n",
        "                target_size=(image_size,image_size), interpolation=\"nearest\")\n",
        "        input_arr = keras.preprocessing.image.img_to_array(image)\n",
        "        input_arr=input_arr/255\n",
        "        input_arr = np.array([input_arr])  # Convert single image to a batch.\n",
        "        prediction = model.predict(input_arr)\n",
        "\n",
        "\n",
        "        a=np.argmax(prediction)\n",
        "        results = labels[a] \n",
        "\n",
        "        \n",
        "        print(\"\\n\")\n",
        "      # print(\"Predicted class number :\", np.argmax(prediction))\n",
        "        print(\"Actual class :\" ,pathlib.Path(filename))\n",
        "        print(\"predicted class name->  MobileV2:\",results )\n",
        "        \n",
        "\n",
        "    print(\"\\n Tested: \" ,i, \"new unseen images\")"
      ],
      "metadata": {
        "id": "hT0WRZ88PLxV"
      },
      "execution_count": null,
      "outputs": []
    },
    {
      "cell_type": "code",
      "source": [
        "def assign_callbacks(weights_file,patience,lr_factor):\n",
        "  return[\n",
        "      #Only save the weights that correspond to the minimum validation loss.\n",
        "      tf.keras.callbacks.ModelCheckpoint(filepath=weights_file,\n",
        "                                         monitor='val_accuracy',\n",
        "                                         mode='max',\n",
        "                                         save_best_only=True ,\n",
        "                                         save_weights_only=True,\n",
        "                                         verbose=0),\n",
        "      #If val_loss doesn't improve for a number of epochs set with 'patience' \n",
        "      #variable, training will stop to avoid overfitting.    \n",
        "      tf.keras.callbacks.EarlyStopping(monitor='val_loss',\n",
        "                                       mode='min',\n",
        "                                       patience=patience,\n",
        "                                       verbose=1),\n",
        "      #Learning rate is reduced by 'lr_factor' if val_loss stagnates\n",
        "      #for a number of epochs set with 'patience/2' variable.\n",
        "      tf.keras.callbacks.ReduceLROnPlateau(monitor='val_loss',\n",
        "                                           mode='min',\n",
        "                                           factor=lr_factor,\n",
        "                                           patience=patience//2,\n",
        "                                           min_lr=1e-6,\n",
        "                                           verbose=1)]\n"
      ],
      "metadata": {
        "id": "PoNdeFyLPLrO"
      },
      "execution_count": null,
      "outputs": []
    },
    {
      "cell_type": "code",
      "source": [
        "#The training class names.\n",
        "class_names=['Anthracnose_Fruit', 'Anthracnose_Leaf', 'Bacterial_Canker_Fruit', 'Bacterial_Canker_Leaf', 'Black_Rot_disease_Fruit', 'Fruit_borer_Fruit', 'Gall_midge_Leaf', 'Giant_Mealybug_Leaf', 'Leaf_Coating_Mite_Leaf', 'Leaf_Cutting_Weevil_Leaf', 'Mealybug_Fruit', 'Mealybug_Leaf', 'Mysterious_cracking_Disease_Fruit', 'Normal_Fruit', 'Normal_Leaf', 'Powdery_Mildew_Leaf', 'Red_Rust_Leaf', 'Scab_Fruit', 'Scab_Leaf', 'Shoot_mold_Leaf']"
      ],
      "metadata": {
        "id": "H-ivmUIaPLlv"
      },
      "execution_count": null,
      "outputs": []
    },
    {
      "cell_type": "code",
      "source": [
        "#Create the whole neural network, pass the base model as parameter.\n",
        "def create_model(base_model):\n",
        "      x = base_model.output\n",
        "      #Add a global spatial average pooling layer.\n",
        "      x = GlobalAveragePooling2D()(x)\n",
        "      #Add a fully-connected layer.\n",
        "      x = Dense(1024, activation='relu')(x)\n",
        "      #Add a dropout layer to decrease overfitting\n",
        "      x=Dropout(0.2)(x)\n",
        "      #Add a logistic layer with number_of_neurons=number_of_training_classes.\n",
        "      predictions = Dense(CLASSES, activation='softmax')(x)\n",
        "\n",
        "      #This is the model we will train\n",
        "      model = Model(inputs=base_model.input, outputs=predictions, name=\"Plant_Disease_Detector\")\n",
        "\n",
        "      #Freeze layers of the base model, we will only train the extra layers.\n",
        "      #This way features already learned by the base model aren't lost.\n",
        "      for layer in base_model.layers:\n",
        "          layer.trainable = False\n",
        "\n",
        "      #Assign a base learning rate for the Adam optimizer.\n",
        "      base_learning_rate = 0.0001\n",
        "      model.compile(optimizer=tf.keras.optimizers.Adam(lr=base_learning_rate)\n",
        "                    ,loss='categorical_crossentropy' ,metrics='accuracy')\n",
        "      \n",
        "      return model"
      ],
      "metadata": {
        "id": "LPKcTqEzPLi-"
      },
      "execution_count": null,
      "outputs": []
    },
    {
      "cell_type": "code",
      "source": [
        "#Prepare data\n",
        "train_data,valid_data=data_prep()\n",
        "#Define callbacks for training\n",
        "callbacks=assign_callbacks(WEIGHTS_FILE,PATIENCE,LR_FACTOR)"
      ],
      "metadata": {
        "colab": {
          "base_uri": "https://localhost:8080/"
        },
        "id": "QGG8jtuKPLgR",
        "outputId": "4cc0e44b-02b6-48b4-a5d7-4437994f67a3"
      },
      "execution_count": null,
      "outputs": [
        {
          "output_type": "stream",
          "name": "stdout",
          "text": [
            "Found 40350 images belonging to 20 classes.\n",
            "Found 8298 images belonging to 20 classes.\n"
          ]
        }
      ]
    },
    {
      "cell_type": "code",
      "source": [
        "#Create the base pre-trained model, without the classification layers. \n",
        "base_model = MobileNetV2(weights='imagenet',\n",
        "                        include_top=False ,input_shape=(224,224,3))\n",
        "#Create the complete new model.\n",
        "model=create_model(base_model)"
      ],
      "metadata": {
        "colab": {
          "base_uri": "https://localhost:8080/"
        },
        "id": "qgs_eZ7UPLde",
        "outputId": "9e1cb3e6-1087-4d35-dba2-ecd1c2194629"
      },
      "execution_count": null,
      "outputs": [
        {
          "output_type": "stream",
          "name": "stdout",
          "text": [
            "Downloading data from https://storage.googleapis.com/tensorflow/keras-applications/mobilenet_v2/mobilenet_v2_weights_tf_dim_ordering_tf_kernels_1.0_224_no_top.h5\n",
            "9412608/9406464 [==============================] - 0s 0us/step\n",
            "9420800/9406464 [==============================] - 0s 0us/step\n"
          ]
        },
        {
          "output_type": "stream",
          "name": "stderr",
          "text": [
            "/usr/local/lib/python3.7/dist-packages/keras/optimizer_v2/adam.py:105: UserWarning: The `lr` argument is deprecated, use `learning_rate` instead.\n",
            "  super(Adam, self).__init__(name, **kwargs)\n"
          ]
        }
      ]
    },
    {
      "cell_type": "code",
      "source": [
        "#Information about the model's layers.\n",
        "model.summary()\n"
      ],
      "metadata": {
        "id": "1sBJOK2VPLa3"
      },
      "execution_count": null,
      "outputs": []
    },
    {
      "cell_type": "code",
      "source": [
        "#Train the model on the dataset.\n",
        "history=model.fit(x=train_data , batch_size=BATCH_SIZE,\n",
        "                 epochs=EPOCHS , verbose=2 ,\n",
        "                 validation_data=valid_data,\n",
        "                 steps_per_epoch=20,\n",
        "                 validation_steps=10,\n",
        "                 callbacks=callbacks) "
      ],
      "metadata": {
        "colab": {
          "base_uri": "https://localhost:8080/"
        },
        "id": "EPigZegvPLYH",
        "outputId": "defac64c-0ab4-4ac0-b4cc-e9d6d52a61d3"
      },
      "execution_count": null,
      "outputs": [
        {
          "output_type": "stream",
          "name": "stdout",
          "text": [
            "Epoch 1/100\n",
            "20/20 - 20s - loss: 2.7499 - accuracy: 0.2016 - val_loss: 2.2452 - val_accuracy: 0.3844 - lr: 1.0000e-04 - 20s/epoch - 996ms/step\n",
            "Epoch 2/100\n",
            "20/20 - 8s - loss: 2.1520 - accuracy: 0.3656 - val_loss: 1.7072 - val_accuracy: 0.5594 - lr: 1.0000e-04 - 8s/epoch - 418ms/step\n",
            "Epoch 3/100\n",
            "20/20 - 8s - loss: 1.6857 - accuracy: 0.5219 - val_loss: 1.4781 - val_accuracy: 0.5500 - lr: 1.0000e-04 - 8s/epoch - 404ms/step\n",
            "Epoch 4/100\n",
            "20/20 - 8s - loss: 1.3610 - accuracy: 0.6313 - val_loss: 1.1998 - val_accuracy: 0.6812 - lr: 1.0000e-04 - 8s/epoch - 419ms/step\n",
            "Epoch 5/100\n",
            "20/20 - 8s - loss: 1.1794 - accuracy: 0.6719 - val_loss: 1.0120 - val_accuracy: 0.7375 - lr: 1.0000e-04 - 8s/epoch - 419ms/step\n",
            "Epoch 6/100\n",
            "20/20 - 8s - loss: 1.0723 - accuracy: 0.6922 - val_loss: 0.8785 - val_accuracy: 0.7406 - lr: 1.0000e-04 - 8s/epoch - 418ms/step\n",
            "Epoch 7/100\n",
            "20/20 - 8s - loss: 0.9556 - accuracy: 0.7188 - val_loss: 0.8391 - val_accuracy: 0.7500 - lr: 1.0000e-04 - 8s/epoch - 420ms/step\n",
            "Epoch 8/100\n",
            "20/20 - 8s - loss: 0.9271 - accuracy: 0.7250 - val_loss: 0.6714 - val_accuracy: 0.8156 - lr: 1.0000e-04 - 8s/epoch - 416ms/step\n",
            "Epoch 9/100\n",
            "20/20 - 8s - loss: 0.8192 - accuracy: 0.7594 - val_loss: 0.6498 - val_accuracy: 0.8219 - lr: 1.0000e-04 - 8s/epoch - 416ms/step\n",
            "Epoch 10/100\n",
            "20/20 - 8s - loss: 0.7827 - accuracy: 0.7750 - val_loss: 0.5913 - val_accuracy: 0.8344 - lr: 1.0000e-04 - 8s/epoch - 416ms/step\n",
            "Epoch 11/100\n",
            "20/20 - 8s - loss: 0.7450 - accuracy: 0.7922 - val_loss: 0.5601 - val_accuracy: 0.8594 - lr: 1.0000e-04 - 8s/epoch - 412ms/step\n",
            "Epoch 12/100\n",
            "20/20 - 8s - loss: 0.6609 - accuracy: 0.8062 - val_loss: 0.4701 - val_accuracy: 0.8969 - lr: 1.0000e-04 - 8s/epoch - 415ms/step\n",
            "Epoch 13/100\n",
            "20/20 - 8s - loss: 0.6419 - accuracy: 0.8297 - val_loss: 0.4792 - val_accuracy: 0.8781 - lr: 1.0000e-04 - 8s/epoch - 401ms/step\n",
            "Epoch 14/100\n",
            "20/20 - 8s - loss: 0.5741 - accuracy: 0.8313 - val_loss: 0.4012 - val_accuracy: 0.9156 - lr: 1.0000e-04 - 8s/epoch - 414ms/step\n",
            "Epoch 15/100\n",
            "20/20 - 8s - loss: 0.5881 - accuracy: 0.8313 - val_loss: 0.4098 - val_accuracy: 0.9000 - lr: 1.0000e-04 - 8s/epoch - 400ms/step\n",
            "Epoch 16/100\n",
            "20/20 - 8s - loss: 0.5761 - accuracy: 0.8297 - val_loss: 0.3581 - val_accuracy: 0.9187 - lr: 1.0000e-04 - 8s/epoch - 416ms/step\n",
            "Epoch 17/100\n",
            "20/20 - 8s - loss: 0.4864 - accuracy: 0.8687 - val_loss: 0.3801 - val_accuracy: 0.8969 - lr: 1.0000e-04 - 8s/epoch - 402ms/step\n",
            "Epoch 18/100\n",
            "20/20 - 8s - loss: 0.4722 - accuracy: 0.8687 - val_loss: 0.3443 - val_accuracy: 0.9281 - lr: 1.0000e-04 - 8s/epoch - 422ms/step\n",
            "Epoch 19/100\n",
            "20/20 - 8s - loss: 0.4998 - accuracy: 0.8516 - val_loss: 0.3515 - val_accuracy: 0.9156 - lr: 1.0000e-04 - 8s/epoch - 410ms/step\n",
            "Epoch 20/100\n",
            "20/20 - 8s - loss: 0.4498 - accuracy: 0.8609 - val_loss: 0.2946 - val_accuracy: 0.9531 - lr: 1.0000e-04 - 8s/epoch - 416ms/step\n",
            "Epoch 21/100\n",
            "20/20 - 8s - loss: 0.4333 - accuracy: 0.8762 - val_loss: 0.3049 - val_accuracy: 0.9187 - lr: 1.0000e-04 - 8s/epoch - 406ms/step\n",
            "Epoch 22/100\n",
            "20/20 - 8s - loss: 0.3709 - accuracy: 0.8953 - val_loss: 0.2649 - val_accuracy: 0.9469 - lr: 1.0000e-04 - 8s/epoch - 403ms/step\n",
            "Epoch 23/100\n",
            "20/20 - 8s - loss: 0.4269 - accuracy: 0.8859 - val_loss: 0.2981 - val_accuracy: 0.9156 - lr: 1.0000e-04 - 8s/epoch - 399ms/step\n",
            "Epoch 24/100\n",
            "20/20 - 8s - loss: 0.4191 - accuracy: 0.8938 - val_loss: 0.3248 - val_accuracy: 0.8969 - lr: 1.0000e-04 - 8s/epoch - 403ms/step\n",
            "Epoch 25/100\n",
            "20/20 - 8s - loss: 0.3859 - accuracy: 0.8891 - val_loss: 0.2387 - val_accuracy: 0.9531 - lr: 1.0000e-04 - 8s/epoch - 401ms/step\n",
            "Epoch 26/100\n",
            "20/20 - 8s - loss: 0.3653 - accuracy: 0.9047 - val_loss: 0.2104 - val_accuracy: 0.9563 - lr: 1.0000e-04 - 8s/epoch - 416ms/step\n",
            "Epoch 27/100\n",
            "20/20 - 8s - loss: 0.3854 - accuracy: 0.8859 - val_loss: 0.2255 - val_accuracy: 0.9531 - lr: 1.0000e-04 - 8s/epoch - 404ms/step\n",
            "Epoch 28/100\n",
            "20/20 - 8s - loss: 0.3085 - accuracy: 0.9203 - val_loss: 0.2115 - val_accuracy: 0.9688 - lr: 1.0000e-04 - 8s/epoch - 418ms/step\n",
            "Epoch 29/100\n",
            "20/20 - 8s - loss: 0.3665 - accuracy: 0.8922 - val_loss: 0.2657 - val_accuracy: 0.9469 - lr: 1.0000e-04 - 8s/epoch - 404ms/step\n",
            "Epoch 30/100\n",
            "20/20 - 8s - loss: 0.3020 - accuracy: 0.9266 - val_loss: 0.1699 - val_accuracy: 0.9781 - lr: 1.0000e-04 - 8s/epoch - 413ms/step\n",
            "Epoch 31/100\n",
            "20/20 - 8s - loss: 0.3184 - accuracy: 0.9172 - val_loss: 0.2117 - val_accuracy: 0.9375 - lr: 1.0000e-04 - 8s/epoch - 400ms/step\n",
            "Epoch 32/100\n",
            "20/20 - 8s - loss: 0.2781 - accuracy: 0.9281 - val_loss: 0.1935 - val_accuracy: 0.9563 - lr: 1.0000e-04 - 8s/epoch - 402ms/step\n",
            "Epoch 33/100\n",
            "20/20 - 8s - loss: 0.2909 - accuracy: 0.9250 - val_loss: 0.1721 - val_accuracy: 0.9719 - lr: 1.0000e-04 - 8s/epoch - 399ms/step\n",
            "Epoch 34/100\n",
            "20/20 - 8s - loss: 0.2740 - accuracy: 0.9281 - val_loss: 0.1336 - val_accuracy: 0.9781 - lr: 1.0000e-04 - 8s/epoch - 401ms/step\n",
            "Epoch 35/100\n",
            "20/20 - 8s - loss: 0.2938 - accuracy: 0.9266 - val_loss: 0.1767 - val_accuracy: 0.9500 - lr: 1.0000e-04 - 8s/epoch - 400ms/step\n",
            "Epoch 36/100\n",
            "20/20 - 8s - loss: 0.2721 - accuracy: 0.9250 - val_loss: 0.1882 - val_accuracy: 0.9531 - lr: 1.0000e-04 - 8s/epoch - 402ms/step\n",
            "Epoch 37/100\n",
            "20/20 - 8s - loss: 0.2698 - accuracy: 0.9281 - val_loss: 0.1452 - val_accuracy: 0.9719 - lr: 1.0000e-04 - 8s/epoch - 401ms/step\n",
            "Epoch 38/100\n",
            "20/20 - 8s - loss: 0.2813 - accuracy: 0.9203 - val_loss: 0.1452 - val_accuracy: 0.9719 - lr: 1.0000e-04 - 8s/epoch - 398ms/step\n",
            "Epoch 39/100\n",
            "20/20 - 8s - loss: 0.2538 - accuracy: 0.9266 - val_loss: 0.1470 - val_accuracy: 0.9719 - lr: 1.0000e-04 - 8s/epoch - 398ms/step\n",
            "Epoch 40/100\n",
            "20/20 - 8s - loss: 0.2635 - accuracy: 0.9266 - val_loss: 0.1627 - val_accuracy: 0.9688 - lr: 1.0000e-04 - 8s/epoch - 400ms/step\n",
            "Epoch 41/100\n",
            "20/20 - 8s - loss: 0.2416 - accuracy: 0.9406 - val_loss: 0.1597 - val_accuracy: 0.9594 - lr: 1.0000e-04 - 8s/epoch - 402ms/step\n",
            "Epoch 42/100\n",
            "20/20 - 8s - loss: 0.2285 - accuracy: 0.9406 - val_loss: 0.1448 - val_accuracy: 0.9656 - lr: 1.0000e-04 - 8s/epoch - 403ms/step\n",
            "Epoch 43/100\n",
            "20/20 - 8s - loss: 0.2426 - accuracy: 0.9422 - val_loss: 0.1278 - val_accuracy: 0.9750 - lr: 1.0000e-04 - 8s/epoch - 409ms/step\n",
            "Epoch 44/100\n",
            "20/20 - 8s - loss: 0.2445 - accuracy: 0.9391 - val_loss: 0.1484 - val_accuracy: 0.9812 - lr: 1.0000e-04 - 8s/epoch - 416ms/step\n",
            "Epoch 45/100\n",
            "20/20 - 8s - loss: 0.2495 - accuracy: 0.9297 - val_loss: 0.1516 - val_accuracy: 0.9781 - lr: 1.0000e-04 - 8s/epoch - 397ms/step\n",
            "Epoch 46/100\n",
            "20/20 - 8s - loss: 0.2229 - accuracy: 0.9328 - val_loss: 0.1259 - val_accuracy: 0.9781 - lr: 1.0000e-04 - 8s/epoch - 399ms/step\n",
            "Epoch 47/100\n",
            "20/20 - 8s - loss: 0.2199 - accuracy: 0.9422 - val_loss: 0.1372 - val_accuracy: 0.9750 - lr: 1.0000e-04 - 8s/epoch - 398ms/step\n",
            "Epoch 48/100\n",
            "20/20 - 8s - loss: 0.2336 - accuracy: 0.9438 - val_loss: 0.1158 - val_accuracy: 0.9781 - lr: 1.0000e-04 - 8s/epoch - 398ms/step\n",
            "Epoch 49/100\n",
            "20/20 - 8s - loss: 0.1708 - accuracy: 0.9656 - val_loss: 0.1132 - val_accuracy: 0.9844 - lr: 1.0000e-04 - 8s/epoch - 412ms/step\n",
            "Epoch 50/100\n",
            "20/20 - 8s - loss: 0.2106 - accuracy: 0.9422 - val_loss: 0.1278 - val_accuracy: 0.9625 - lr: 1.0000e-04 - 8s/epoch - 395ms/step\n",
            "Epoch 51/100\n",
            "20/20 - 8s - loss: 0.2043 - accuracy: 0.9438 - val_loss: 0.1143 - val_accuracy: 0.9688 - lr: 1.0000e-04 - 8s/epoch - 397ms/step\n",
            "Epoch 52/100\n",
            "20/20 - 8s - loss: 0.2071 - accuracy: 0.9422 - val_loss: 0.1310 - val_accuracy: 0.9625 - lr: 1.0000e-04 - 8s/epoch - 396ms/step\n",
            "Epoch 53/100\n",
            "20/20 - 8s - loss: 0.2303 - accuracy: 0.9281 - val_loss: 0.1023 - val_accuracy: 0.9812 - lr: 1.0000e-04 - 8s/epoch - 392ms/step\n",
            "Epoch 54/100\n",
            "20/20 - 8s - loss: 0.1857 - accuracy: 0.9469 - val_loss: 0.1034 - val_accuracy: 0.9875 - lr: 1.0000e-04 - 8s/epoch - 410ms/step\n",
            "Epoch 55/100\n",
            "20/20 - 8s - loss: 0.1829 - accuracy: 0.9578 - val_loss: 0.1139 - val_accuracy: 0.9812 - lr: 1.0000e-04 - 8s/epoch - 396ms/step\n",
            "Epoch 56/100\n",
            "20/20 - 8s - loss: 0.1917 - accuracy: 0.9469 - val_loss: 0.1008 - val_accuracy: 0.9844 - lr: 1.0000e-04 - 8s/epoch - 392ms/step\n",
            "Epoch 57/100\n",
            "20/20 - 8s - loss: 0.1807 - accuracy: 0.9609 - val_loss: 0.0703 - val_accuracy: 0.9969 - lr: 1.0000e-04 - 8s/epoch - 410ms/step\n",
            "Epoch 58/100\n",
            "20/20 - 8s - loss: 0.1944 - accuracy: 0.9563 - val_loss: 0.1080 - val_accuracy: 0.9844 - lr: 1.0000e-04 - 8s/epoch - 394ms/step\n",
            "Epoch 59/100\n",
            "20/20 - 8s - loss: 0.1906 - accuracy: 0.9422 - val_loss: 0.0941 - val_accuracy: 0.9781 - lr: 1.0000e-04 - 8s/epoch - 397ms/step\n",
            "Epoch 60/100\n",
            "20/20 - 8s - loss: 0.1564 - accuracy: 0.9625 - val_loss: 0.0838 - val_accuracy: 0.9812 - lr: 1.0000e-04 - 8s/epoch - 397ms/step\n",
            "Epoch 61/100\n",
            "20/20 - 8s - loss: 0.1590 - accuracy: 0.9563 - val_loss: 0.0972 - val_accuracy: 0.9781 - lr: 1.0000e-04 - 8s/epoch - 397ms/step\n",
            "Epoch 62/100\n",
            "20/20 - 8s - loss: 0.2018 - accuracy: 0.9422 - val_loss: 0.0783 - val_accuracy: 0.9937 - lr: 1.0000e-04 - 8s/epoch - 397ms/step\n",
            "Epoch 63/100\n",
            "20/20 - 8s - loss: 0.1920 - accuracy: 0.9375 - val_loss: 0.0897 - val_accuracy: 0.9906 - lr: 1.0000e-04 - 8s/epoch - 394ms/step\n",
            "Epoch 64/100\n",
            "20/20 - 8s - loss: 0.1953 - accuracy: 0.9469 - val_loss: 0.0872 - val_accuracy: 0.9906 - lr: 1.0000e-04 - 8s/epoch - 402ms/step\n",
            "Epoch 65/100\n",
            "20/20 - 8s - loss: 0.1777 - accuracy: 0.9547 - val_loss: 0.0943 - val_accuracy: 0.9750 - lr: 1.0000e-04 - 8s/epoch - 405ms/step\n",
            "Epoch 66/100\n",
            "20/20 - 8s - loss: 0.1658 - accuracy: 0.9563 - val_loss: 0.0857 - val_accuracy: 0.9844 - lr: 1.0000e-04 - 8s/epoch - 407ms/step\n",
            "Epoch 67/100\n",
            "\n",
            "Epoch 00067: ReduceLROnPlateau reducing learning rate to 1.9999999494757503e-05.\n",
            "20/20 - 8s - loss: 0.1358 - accuracy: 0.9703 - val_loss: 0.0819 - val_accuracy: 0.9750 - lr: 1.0000e-04 - 8s/epoch - 396ms/step\n",
            "Epoch 68/100\n",
            "20/20 - 8s - loss: 0.1804 - accuracy: 0.9500 - val_loss: 0.0835 - val_accuracy: 0.9875 - lr: 2.0000e-05 - 8s/epoch - 396ms/step\n",
            "Epoch 69/100\n",
            "20/20 - 8s - loss: 0.1332 - accuracy: 0.9625 - val_loss: 0.0646 - val_accuracy: 0.9844 - lr: 2.0000e-05 - 8s/epoch - 398ms/step\n",
            "Epoch 70/100\n",
            "20/20 - 8s - loss: 0.1406 - accuracy: 0.9703 - val_loss: 0.0926 - val_accuracy: 0.9719 - lr: 2.0000e-05 - 8s/epoch - 399ms/step\n",
            "Epoch 71/100\n",
            "20/20 - 8s - loss: 0.1448 - accuracy: 0.9656 - val_loss: 0.0699 - val_accuracy: 0.9937 - lr: 2.0000e-05 - 8s/epoch - 394ms/step\n",
            "Epoch 72/100\n",
            "20/20 - 8s - loss: 0.1529 - accuracy: 0.9641 - val_loss: 0.0836 - val_accuracy: 0.9812 - lr: 2.0000e-05 - 8s/epoch - 396ms/step\n",
            "Epoch 73/100\n",
            "20/20 - 8s - loss: 0.1596 - accuracy: 0.9609 - val_loss: 0.0735 - val_accuracy: 0.9875 - lr: 2.0000e-05 - 8s/epoch - 399ms/step\n",
            "Epoch 74/100\n",
            "20/20 - 8s - loss: 0.1579 - accuracy: 0.9578 - val_loss: 0.0724 - val_accuracy: 0.9906 - lr: 2.0000e-05 - 8s/epoch - 397ms/step\n",
            "Epoch 75/100\n",
            "20/20 - 8s - loss: 0.1699 - accuracy: 0.9516 - val_loss: 0.0942 - val_accuracy: 0.9812 - lr: 2.0000e-05 - 8s/epoch - 398ms/step\n",
            "Epoch 76/100\n",
            "20/20 - 8s - loss: 0.1610 - accuracy: 0.9531 - val_loss: 0.0981 - val_accuracy: 0.9781 - lr: 2.0000e-05 - 8s/epoch - 397ms/step\n",
            "Epoch 77/100\n",
            "20/20 - 8s - loss: 0.1708 - accuracy: 0.9578 - val_loss: 0.0599 - val_accuracy: 1.0000 - lr: 2.0000e-05 - 8s/epoch - 412ms/step\n",
            "Epoch 78/100\n",
            "20/20 - 8s - loss: 0.1491 - accuracy: 0.9609 - val_loss: 0.0763 - val_accuracy: 0.9937 - lr: 2.0000e-05 - 8s/epoch - 396ms/step\n",
            "Epoch 79/100\n",
            "20/20 - 8s - loss: 0.1256 - accuracy: 0.9766 - val_loss: 0.0663 - val_accuracy: 0.9844 - lr: 2.0000e-05 - 8s/epoch - 399ms/step\n",
            "Epoch 80/100\n",
            "20/20 - 8s - loss: 0.1731 - accuracy: 0.9531 - val_loss: 0.0708 - val_accuracy: 0.9906 - lr: 2.0000e-05 - 8s/epoch - 398ms/step\n",
            "Epoch 81/100\n",
            "20/20 - 8s - loss: 0.1445 - accuracy: 0.9609 - val_loss: 0.0820 - val_accuracy: 0.9781 - lr: 2.0000e-05 - 8s/epoch - 396ms/step\n",
            "Epoch 82/100\n",
            "20/20 - 8s - loss: 0.1282 - accuracy: 0.9703 - val_loss: 0.0825 - val_accuracy: 0.9906 - lr: 2.0000e-05 - 8s/epoch - 398ms/step\n",
            "Epoch 83/100\n",
            "20/20 - 8s - loss: 0.1415 - accuracy: 0.9703 - val_loss: 0.0680 - val_accuracy: 0.9937 - lr: 2.0000e-05 - 8s/epoch - 394ms/step\n",
            "Epoch 84/100\n",
            "20/20 - 8s - loss: 0.1307 - accuracy: 0.9703 - val_loss: 0.0876 - val_accuracy: 0.9844 - lr: 2.0000e-05 - 8s/epoch - 396ms/step\n",
            "Epoch 85/100\n",
            "20/20 - 8s - loss: 0.1484 - accuracy: 0.9531 - val_loss: 0.0614 - val_accuracy: 0.9969 - lr: 2.0000e-05 - 8s/epoch - 399ms/step\n",
            "Epoch 86/100\n",
            "20/20 - 8s - loss: 0.1533 - accuracy: 0.9578 - val_loss: 0.0793 - val_accuracy: 0.9812 - lr: 2.0000e-05 - 8s/epoch - 398ms/step\n",
            "Epoch 87/100\n",
            "\n",
            "Epoch 00087: ReduceLROnPlateau reducing learning rate to 3.999999898951501e-06.\n",
            "20/20 - 8s - loss: 0.1329 - accuracy: 0.9688 - val_loss: 0.0670 - val_accuracy: 0.9906 - lr: 2.0000e-05 - 8s/epoch - 396ms/step\n",
            "Epoch 88/100\n",
            "20/20 - 8s - loss: 0.1330 - accuracy: 0.9734 - val_loss: 0.0774 - val_accuracy: 0.9875 - lr: 4.0000e-06 - 8s/epoch - 395ms/step\n",
            "Epoch 89/100\n",
            "20/20 - 8s - loss: 0.1133 - accuracy: 0.9750 - val_loss: 0.0651 - val_accuracy: 0.9844 - lr: 4.0000e-06 - 8s/epoch - 396ms/step\n",
            "Epoch 90/100\n",
            "20/20 - 8s - loss: 0.1585 - accuracy: 0.9547 - val_loss: 0.0717 - val_accuracy: 0.9812 - lr: 4.0000e-06 - 8s/epoch - 396ms/step\n",
            "Epoch 91/100\n",
            "20/20 - 8s - loss: 0.1777 - accuracy: 0.9484 - val_loss: 0.0590 - val_accuracy: 0.9844 - lr: 4.0000e-06 - 8s/epoch - 400ms/step\n",
            "Epoch 92/100\n",
            "20/20 - 8s - loss: 0.1493 - accuracy: 0.9594 - val_loss: 0.0594 - val_accuracy: 0.9969 - lr: 4.0000e-06 - 8s/epoch - 394ms/step\n",
            "Epoch 93/100\n",
            "20/20 - 8s - loss: 0.1360 - accuracy: 0.9688 - val_loss: 0.0590 - val_accuracy: 0.9906 - lr: 4.0000e-06 - 8s/epoch - 394ms/step\n",
            "Epoch 94/100\n",
            "20/20 - 8s - loss: 0.1398 - accuracy: 0.9594 - val_loss: 0.0661 - val_accuracy: 0.9906 - lr: 4.0000e-06 - 8s/epoch - 399ms/step\n",
            "Epoch 95/100\n",
            "20/20 - 8s - loss: 0.1302 - accuracy: 0.9750 - val_loss: 0.0634 - val_accuracy: 0.9969 - lr: 4.0000e-06 - 8s/epoch - 396ms/step\n",
            "Epoch 96/100\n",
            "20/20 - 8s - loss: 0.1361 - accuracy: 0.9703 - val_loss: 0.0589 - val_accuracy: 0.9906 - lr: 4.0000e-06 - 8s/epoch - 403ms/step\n",
            "Epoch 97/100\n",
            "20/20 - 8s - loss: 0.1250 - accuracy: 0.9703 - val_loss: 0.0855 - val_accuracy: 0.9812 - lr: 4.0000e-06 - 8s/epoch - 408ms/step\n",
            "Epoch 98/100\n",
            "20/20 - 8s - loss: 0.1135 - accuracy: 0.9719 - val_loss: 0.0458 - val_accuracy: 0.9969 - lr: 4.0000e-06 - 8s/epoch - 393ms/step\n",
            "Epoch 99/100\n",
            "20/20 - 8s - loss: 0.1192 - accuracy: 0.9750 - val_loss: 0.0754 - val_accuracy: 0.9781 - lr: 4.0000e-06 - 8s/epoch - 396ms/step\n",
            "Epoch 100/100\n",
            "20/20 - 8s - loss: 0.1140 - accuracy: 0.9750 - val_loss: 0.0802 - val_accuracy: 0.9812 - lr: 4.0000e-06 - 8s/epoch - 392ms/step\n"
          ]
        }
      ]
    },
    {
      "cell_type": "code",
      "source": [
        "#Plot the Learning Curves from model training.\n",
        "plot_training_curves(history)"
      ],
      "metadata": {
        "colab": {
          "base_uri": "https://localhost:8080/",
          "height": 786
        },
        "id": "czFYhnwzPLVm",
        "outputId": "47470db2-209f-4616-f9f4-7df5a281f081"
      },
      "execution_count": null,
      "outputs": [
        {
          "output_type": "display_data",
          "data": {
            "image/png": "[encoded data removed]",
            "text/plain": [
              "<Figure size 720x432 with 1 Axes>"
            ]
          },
          "metadata": {
            "needs_background": "light"
          }
        },
        {
          "output_type": "display_data",
          "data": {
            "image/png": "[encoded data removed]",
            "text/plain": [
              "<Figure size 720x432 with 1 Axes>"
            ]
          },
          "metadata": {
            "needs_background": "light"
          }
        }
      ]
    },
    {
      "cell_type": "code",
      "source": [
        "#Load optimal weights computed during training.\n",
        "model.load_weights(WEIGHTS_FILE)\n",
        "#Convert the model to it's Tensorflow Lite equivalent\n",
        "converter = tf.lite.TFLiteConverter.from_keras_model(model)\n",
        "\n",
        "converter.optimizations = [tf.lite.Optimize.DEFAULT] ##Quantized\n",
        "tflite_model = converter.convert()\n",
        "\n",
        "# Save the model.\n",
        "with open('model.tfliteQuant', 'wb') as f:\n",
        "  f.write(tflite_model)"
      ],
      "metadata": {
        "colab": {
          "base_uri": "https://localhost:8080/"
        },
        "id": "6g8zKYThP7C2",
        "outputId": "5c51a60f-6d50-48a7-fb2d-640e95d6e5a5"
      },
      "execution_count": null,
      "outputs": [
        {
          "output_type": "stream",
          "name": "stdout",
          "text": [
            "INFO:tensorflow:Assets written to: /tmp/tmpxdbxhj_r/assets\n"
          ]
        },
        {
          "output_type": "stream",
          "name": "stderr",
          "text": [
            "WARNING:absl:Buffer deduplication procedure will be skipped when flatbuffer library is not properly loaded\n"
          ]
        }
      ]
    },
    {
      "cell_type": "code",
      "source": [
        "model.save('densenet.h5') "
      ],
      "metadata": {
        "colab": {
          "base_uri": "https://localhost:8080/"
        },
        "id": "H_j5WJkpP6_u",
        "outputId": "44f1d5ce-b865-485a-ca1b-0a090aa61848"
      },
      "execution_count": null,
      "outputs": [
        {
          "output_type": "stream",
          "name": "stderr",
          "text": [
            "/usr/local/lib/python3.7/dist-packages/keras/engine/functional.py:1410: CustomMaskWarning: Custom mask layers require a config and must override get_config. When loading, the custom mask layer must be passed to the custom_objects argument.\n",
            "  layer_config = serialize_layer_fn(layer)\n"
          ]
        }
      ]
    }
  ]
}